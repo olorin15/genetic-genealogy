{
 "cells": [
  {
   "cell_type": "markdown",
   "id": "41eb5f5a-8aed-454c-8a1f-d351c011821b",
   "metadata": {},
   "source": [
    "Analyzing G25 corrdinates of ancient DNA samples using graphs"
   ]
  },
  {
   "cell_type": "code",
   "execution_count": 1,
   "id": "db428c3b-a7a2-4626-a093-b37b9fe2605a",
   "metadata": {
    "tags": [],
    "vscode": {
     "languageId": "r"
    }
   },
   "outputs": [
    {
     "name": "stderr",
     "output_type": "stream",
     "text": [
      "Loading required package: cowplot\n",
      "\n",
      "\n",
      "Attaching package: ‘cowplot’\n",
      "\n",
      "\n",
      "The following object is masked from ‘package:lubridate’:\n",
      "\n",
      "    stamp\n",
      "\n",
      "\n",
      "Loading required package: dbscan\n",
      "\n",
      "\n",
      "Attaching package: ‘dbscan’\n",
      "\n",
      "\n",
      "The following object is masked from ‘package:stats’:\n",
      "\n",
      "    as.dendrogram\n",
      "\n",
      "\n",
      "Loading required package: igraph\n",
      "\n",
      "\n",
      "Attaching package: ‘igraph’\n",
      "\n",
      "\n",
      "The following objects are masked from ‘package:stats’:\n",
      "\n",
      "    decompose, spectrum\n",
      "\n",
      "\n",
      "The following objects are masked from ‘package:lubridate’:\n",
      "\n",
      "    %--%, union\n",
      "\n",
      "\n",
      "The following objects are masked from ‘package:dplyr’:\n",
      "\n",
      "    as_data_frame, groups, union\n",
      "\n",
      "\n",
      "The following objects are masked from ‘package:purrr’:\n",
      "\n",
      "    compose, simplify\n",
      "\n",
      "\n",
      "The following object is masked from ‘package:tidyr’:\n",
      "\n",
      "    crossing\n",
      "\n",
      "\n",
      "The following object is masked from ‘package:tibble’:\n",
      "\n",
      "    as_data_frame\n",
      "\n",
      "\n",
      "The following object is masked from ‘package:base’:\n",
      "\n",
      "    union\n",
      "\n",
      "\n",
      "Loading required package: tidygraph\n",
      "\n",
      "\n",
      "Attaching package: ‘tidygraph’\n",
      "\n",
      "\n",
      "The following object is masked from ‘package:igraph’:\n",
      "\n",
      "    groups\n",
      "\n",
      "\n",
      "The following object is masked from ‘package:stats’:\n",
      "\n",
      "    filter\n",
      "\n",
      "\n",
      "The following object is masked from ‘package:rio’:\n",
      "\n",
      "    convert\n",
      "\n",
      "\n",
      "Loading required package: ggraph\n",
      "\n",
      "Loading required package: pals\n",
      "\n"
     ]
    }
   ],
   "source": [
    "require(rio)\n",
    "require(tidyverse)\n",
    "require(cowplot)\n",
    "require(dbscan)\n",
    "require(igraph)\n",
    "require(tidygraph)\n",
    "require(ggraph)\n",
    "require(pals)"
   ]
  },
  {
   "cell_type": "markdown",
   "id": "f6a9a694-cdd6-4766-b0e4-b288f0ce9281",
   "metadata": {},
   "source": [
    "Load the data for modern and ancient G25 population averages"
   ]
  },
  {
   "cell_type": "code",
   "execution_count": null,
   "id": "9091ee79-edbc-417f-89f5-6e6bf0b18421",
   "metadata": {
    "tags": [],
    "vscode": {
     "languageId": "r"
    }
   },
   "outputs": [],
   "source": [
    "avgs = as_tibble(import(\"~/Documents/Ancestry/Genetics/G25/Data/TXT/Global25_PCA_pop_averages_scaled.txt\"))\n",
    "#avgs %>% sample_n(10)\n",
    "modavgs = as_tibble(import(\"~/Documents/Ancestry/Genetics/G25/Data/TXT/Global25_PCA_modern_pop_averages_scaled.txt\"))\n",
    "#modavgs %>% sample_n(10)"
   ]
  },
  {
   "cell_type": "markdown",
   "id": "43e58426-13cb-42d5-a359-100d439c24d4",
   "metadata": {},
   "source": [
    "Optionally, filter the dataset down"
   ]
  },
  {
   "cell_type": "code",
   "execution_count": null,
   "id": "0198996d-5152-497f-ab30-fb165bd619b7",
   "metadata": {
    "tags": [],
    "vscode": {
     "languageId": "r"
    }
   },
   "outputs": [],
   "source": [
    "str_extract(avgs$V1,\"^\\\\w+?(?=_)\") %>% unique(sort = TRUE)"
   ]
  },
  {
   "cell_type": "code",
   "execution_count": null,
   "id": "79f8e14b-fb3f-4a14-aa35-afe60108111e",
   "metadata": {
    "tags": [],
    "vscode": {
     "languageId": "r"
    }
   },
   "outputs": [],
   "source": [
    "str_extract(modavgs$V1,\"^\\\\w+?$\") %>% unique(sort = TRUE)"
   ]
  },
  {
   "cell_type": "code",
   "execution_count": null,
   "id": "7514586a-9197-4b18-8fbb-fbb7c39d665e",
   "metadata": {
    "tags": [],
    "vscode": {
     "languageId": "r"
    }
   },
   "outputs": [],
   "source": [
    "str_extract(modavgs$V1,\"^\\\\w+?$\") %>% unique(sort = TRUE) %>% as.character() %>% paste0(collapse = \"|\")"
   ]
  },
  {
   "cell_type": "code",
   "execution_count": null,
   "id": "c73f426e-497c-42ba-9d1b-a79cf5f89daf",
   "metadata": {
    "tags": [],
    "vscode": {
     "languageId": "r"
    }
   },
   "outputs": [],
   "source": [
    "avgs = avgs %>% dplyr::filter(!str_detect(V1,\"^(ARG|AUS|BHS|BLZ|BRA|BWA|CAN|CHL|CHN|CMR|COG|CUW|DOM|ETH|GUM|HTI|IDN|IND|JPN|KAZ|KEN|KGZ|KOR|LAO|MEX|MNG|MWI|MYS)\"))\n",
    "avgs = avgs %>% dplyr::filter(!str_detect(V1,\"^(NPL|PAK|PAN|PER|PYF|Saka|Sarg|SDN|THA|TJK|TKM|TON|TWN|TZA|UGA|USA|UZB|VEN|VNM|VUT|ZAF)\"))\n",
    "avgs = avgs %>% dplyr::filter(!str_detect(V1,\"_o$\"))\n",
    "avgs = avgs %>% dplyr::filter(!str_detect(V1,\"low\"))\n",
    "modavgs = modavgs %>% dplyr::filter(!str_detect(V1,\"^(Abazin|Abkhasian|Adygei|Aeta|Afrikaner|Agta|Ahiska|Akha|Akhvakh|Alawite|Alevi|Algerian|Altaian|Amerindian|Ami|Andian|Arain)\"))\n",
    "modavgs = modavgs %>% dplyr::filter(!str_detect(V1,\"^(Armenian_[AGHP]|Arora|Assyrian|Asur|Atayal|Australian|Awan|Aymara|Azerbaijani_R|Basque_[ABGLR]|Batak|Bedzan|Bengali|Berber_[AM])\"))\n",
    "modavgs = modavgs %>% dplyr::filter(!str_detect(V1,\"^(Arora|Assyrian|Asur|Atayal|Australian|Awan|Aymara|Azerbaijani_R|Batak|Bedzan|Bengali|Bagvalin|Bahun|Baiku|Balti|Baniya|Bantu)\"))\n",
    "modavgs = modavgs %>% dplyr::filter(!str_detect(V1,\"^(Besermyan|Bhumi|Biaka|Birhor|Bitonga|Blang|Bolivian|Bonan|Bonda|Brahmin|Brahui|Bulala|Bunt|Burmese|Burusho|Buryat|Cachi|Cambodian)\"))\n",
    "modavgs = modavgs %>% dplyr::filter(!str_detect(V1,\"^(Cameroon|Chama|Chan|Chen|Chipewyan|Chopi|Chukchi|Chuvash|Circassian|Cochin|Colla|Cree|Dai|Damai|Darginian|Datog|Daur|Dharkar|Dinka)\"))\n",
    "modavgs = modavgs %>% dplyr::filter(!str_detect(V1,\"^(Dolgan|Dong|Dungan|Dusadh|Dusun|Elmolo|Eritrean|Esan_Nigeria|Eskimo|Ethiopian|Even|Evenk|Ezhava|Ezid)\"))\n",
    "modavgs = modavgs %>% dplyr::filter(!str_detect(V1,\"^(French_Au|French_B[ei]|French_[COP]|Fulani|Gadaba|Gagauz|Gambian|Ganguela|Gelao|Georgian_[GIJKLMRST]|Gond|Greek_[ADEIKLMNSTW])\"))\n",
    "modavgs = modavgs %>% dplyr::filter(!str_detect(V1,\"^(Gujar|Gurung|Hadza|Hakkipikki|Han|Hawaiian|Hazara|Hezhen|Hinukh|Hmong|Ho|Htin_Mal|Hui|Hunzib|Igbo|Igorot|Indonesian|Iranian_[BJLMP])\"))\n",
    "modavgs = modavgs %>% dplyr::filter(!str_detect(V1,\"^(Iraq|Irula|Italian_[ABEFJLM]|Itelmen|Jamatia|Japanese|Jarawa|Jat|Jehai|Ju_hoan_North|Juang|Kaba|Kadar|Kaitag|Kalash|Kalmyk|Kamboj)\"))\n",
    "modavgs = modavgs %>% dplyr::filter(!str_detect(V1,\"^(Irula|Itelmen|Jamatia|Japanese|Jarawa|Jat|Jehai|Ju_hoan_North|Juang|Kaba|Kadar|Kaitag|Kalash|Kalmyk|Kamboj)\"))\n",
    "modavgs = modavgs %>% dplyr::filter(!str_detect(V1,\"^(Kamma|Kanjar|Karachay|Karaite_Egypt|Karakalpak|Karata|Karen_Sgaw|Karitiana|Kashmiri|Kazakh|Ket|Khakass|Khamnegan|Khanty|Khatri)\"))\n",
    "modavgs = modavgs %>% dplyr::filter(!str_detect(V1,\"^(Khmer|Kho|Kikuyu|Kinh_Vietnam|Kirghiz|Knanaya|Kohistani|Koinanbe|Kol|Komi|Kongo|Konkani|Korean|Korwa|Koryak|Kosipe)\"))\n",
    "modavgs = modavgs %>% dplyr::filter(!str_detect(V1,\"^(Kshatriya|Kubachinian|Kumyk|Kurdish|Kurichiya|Kurumba|Kusunda|Kuy_Suay|Lahu|Laka|Lao|Lawa|Lebbo|Lemande|Lezgin|Li|Libyan)\"))\n",
    "modavgs = modavgs %>% dplyr::filter(!str_detect(V1,\"^(Lithuanian_[RP]|Luhya_Kenya|Luo|Luzon|Macedonian|Mada|Madagascar|Madiga|Magar|Makhuwa|Makrani|Mala|Malay|Manchu|Mandenka|Maniq)\"))\n",
    "modavgs = modavgs %>% dplyr::filter(!str_detect(V1,\"^(Maniyani_Kerala|Mansi|Manyika|Maonan|Maori|Maratha|Mari|Masai|Mayan|Mbuti|Mende_Sierra_Leone|Miao|Mix|Mlabri|Mogush|Mon|Moroccan_)\"))\n",
    "modavgs = modavgs %>% dplyr::filter(!str_detect(V1,\"^(Mountain_|Mozabite|Mulam|Murut|Mwani|Nahua|Nair|Nanai|Nasoi|Nasrani|Naxi|Ndau|Negidal|Nenets|Nepali|Newar|Nganassan|Ngumba|Nivkh|Nogai)\"))\n",
    "modavgs = modavgs %>% dplyr::filter(!str_detect(V1,\"^(North|Nyah_Kur|Nyan|Ogiek|Onge|Orcadian|Oroqen|Palestinian_|Pallan|Pamiri|Paniya|Papuan|Parsi|Pashtun|Pathan_Bhopal|Piapoco|Pima)\"))\n",
    "modavgs = modavgs %>% dplyr::filter(!str_detect(V1,\"^(Piramalai_Kallar|Poduval_Kerala|Polish_|Pul|Pumi|Punj|Qiang|Qing|Quechua|Rai|Raj|Ratlub|Reddy|Relli|Rendille|Riang|Rohingya)\"))\n",
    "modavgs = modavgs %>% dplyr::filter(!str_detect(V1,\"^(Roma_|Romaniote|Ronga|Ror|Rumelia_East|Russian_[BKRSTVY]|Saharawi|Sakha|Sakilli|Salar|Saliya_Kerala|Samaritan|Sandawe|Santhal)\"))\n",
    "modavgs = modavgs %>% dplyr::filter(!str_detect(V1,\"^(Satnami_Chhattisgarh|Saudi[AB]|Selkup|Sena|Sengwer|She|Shor|Sindhi|Somali|Spanish_[ABCEGLPS]|Sri_Lankan|Sudanese|Surui)\"))\n",
    "modavgs = modavgs %>% dplyr::filter(!str_detect(V1,\"^(Syed|Tabasaran|Tai_Lue|Tajik|Talysh_Azerbaijan|Tamang|Tamil_Sri_Lanka|Tarkhan_Muslim|Tat|Telugu|Thai|Tharu|Thiyya|Tibetan)\"))\n",
    "modavgs = modavgs %>% dplyr::filter(!str_detect(V1,\"^(Tikar_South|Tindal|Tlingit|Todzin|Tripuri|Tsez|Tswa|Turkish_[ABDEGKNS]|Turkmen|Tuvinian|Tyagi|Udi|Udmurt|Ulchi|Umbundu)\"))\n",
    "modavgs = modavgs %>% dplyr::filter(!str_detect(V1,\"^(Uttar|Uygur|Uzbek|Vaniya_Kerala|Velama|Vellalar|Vishwakarma_Kerala|Vizayan|Wa|Welsh|Wichi|Xibo|Yadav_Telugu|Yakut|Yao|Yemenite)\"))\n",
    "modavgs = modavgs %>% dplyr::filter(!str_detect(V1,\"^(Yi|Yoruba|Yugur|Yukagir|Yukpa|Yuku|Zapotec|Zhuang)\"))\n",
    "modavgs = modavgs %>% dplyr::filter(!str_detect(V1,\"_o$\"))"
   ]
  },
  {
   "cell_type": "code",
   "execution_count": null,
   "id": "dac262a9-0bd9-4d1e-a6e9-a0774e0fe102",
   "metadata": {
    "tags": [],
    "vscode": {
     "languageId": "r"
    }
   },
   "outputs": [],
   "source": [
    "avgs$V1 %>% unique(sort = TRUE)\n",
    "modavgs$V1 %>% unique(sort = TRUE)"
   ]
  },
  {
   "cell_type": "code",
   "execution_count": null,
   "id": "61ec6802-126d-4691-b8b8-31e24d365972",
   "metadata": {
    "tags": [],
    "vscode": {
     "languageId": "r"
    }
   },
   "outputs": [],
   "source": [
    "myavgs = avgs %>% select(-V1)\n",
    "row.names(myavgs) = avgs$V1\n",
    "mymodavgs = modavgs %>% select(-V1)\n",
    "row.names(mymodavgs) = modavgs$V1"
   ]
  },
  {
   "cell_type": "markdown",
   "id": "c55cc926-f4b9-4fdf-a78e-80cdbd8fe7e2",
   "metadata": {},
   "source": [
    "Combine all data"
   ]
  },
  {
   "cell_type": "code",
   "execution_count": null,
   "id": "bfb623af-d157-4003-ad21-662038f6f7c5",
   "metadata": {
    "tags": [],
    "vscode": {
     "languageId": "r"
    }
   },
   "outputs": [],
   "source": [
    "allavgs = bind_rows(myavgs,mymodavgs)"
   ]
  },
  {
   "cell_type": "markdown",
   "id": "af4c8f4a-4fed-4e22-a47e-4df2fc4f172b",
   "metadata": {},
   "source": [
    "Find nearest neighbors for each row"
   ]
  },
  {
   "cell_type": "code",
   "execution_count": null,
   "id": "5395f6c0-a9f3-4227-800a-d249e3c77cbd",
   "metadata": {
    "tags": [],
    "vscode": {
     "languageId": "r"
    }
   },
   "outputs": [],
   "source": [
    "mynn = kNN(allavgs,k = nrow(allavgs)-1)\n",
    "mynn"
   ]
  },
  {
   "cell_type": "code",
   "execution_count": null,
   "id": "9ec5bb54-b371-4e07-9474-daff8ab7832f",
   "metadata": {
    "tags": [],
    "vscode": {
     "languageId": "r"
    }
   },
   "outputs": [],
   "source": [
    "mynn_d = rownames_to_column(as.data.frame(round(mynn$dist,2))) %>% as_tibble() %>% mutate(`0` = 0,.after = rowname)\n",
    "mynn = rownames_to_column(as.data.frame(mynn$id)) %>% as_tibble() %>% mutate(`0` = row_number(),.after = rowname)"
   ]
  },
  {
   "cell_type": "code",
   "execution_count": null,
   "id": "e95404ff-bd95-4cdb-8732-6f81224b5e2a",
   "metadata": {
    "tags": [],
    "vscode": {
     "languageId": "r"
    }
   },
   "outputs": [],
   "source": [
    "mynn %>% sample_n(5)\n",
    "mynn_d %>% sample_n(5)"
   ]
  },
  {
   "cell_type": "markdown",
   "id": "03de0e3c-0934-48ec-87b6-6940fede5f31",
   "metadata": {},
   "source": [
    "Pivot and clean up the data"
   ]
  },
  {
   "cell_type": "code",
   "execution_count": null,
   "id": "1427b184-b4ef-43b6-8b64-ce24e468c2f3",
   "metadata": {
    "tags": [],
    "vscode": {
     "languageId": "r"
    }
   },
   "outputs": [],
   "source": [
    "mynames = mynn %>% select(rowname) %>% mutate(val = row_number())"
   ]
  },
  {
   "cell_type": "code",
   "execution_count": null,
   "id": "18e6ebc7-ecfb-4548-b883-4c02b1422f82",
   "metadata": {
    "tags": [],
    "vscode": {
     "languageId": "r"
    }
   },
   "outputs": [],
   "source": [
    "mynn = mynn %>% pivot_longer(cols = matches(\"^\\\\d\"),names_to = \"rank\",values_to = \"val\") %>% inner_join(mynames,by = \"val\") %>% select(c(1,4,2)) # nolint: line_length_linter.\n",
    "mynn_d = mynn_d %>% pivot_longer(cols = matches(\"^\\\\d\"),names_to = \"rank\",values_to = \"dist\")"
   ]
  },
  {
   "cell_type": "code",
   "execution_count": null,
   "id": "6738f68e-ac96-46e6-b35e-84a9b272b514",
   "metadata": {
    "tags": [],
    "vscode": {
     "languageId": "r"
    }
   },
   "outputs": [],
   "source": [
    "mynn %>% sample_n(5)\n",
    "mynn_d %>% sample_n(5)\n",
    "#mynn_d %>% count(rank)"
   ]
  },
  {
   "cell_type": "code",
   "execution_count": null,
   "id": "e05bccf7-ac41-4ee7-b6eb-de46516086cb",
   "metadata": {
    "tags": [],
    "vscode": {
     "languageId": "r"
    }
   },
   "outputs": [],
   "source": [
    "colnames(mynn) = c(\"target\",\"population\",\"rank\")\n",
    "colnames(mynn_d) = c(\"target\",\"rank\",\"distance\")\n",
    "mynn = mynn %>% inner_join(mynn_d) %>% dplyr::filter(rank %in% 1:5)\n",
    "mynn %>% sample_n(10)"
   ]
  },
  {
   "cell_type": "code",
   "execution_count": null,
   "id": "3410e41c-35ab-487d-a3fa-cf563e114d68",
   "metadata": {
    "tags": [],
    "vscode": {
     "languageId": "r"
    }
   },
   "outputs": [],
   "source": [
    "write_csv(mynn,\"../Genetics/G25/Data/CSV/top_10_dist_all.csv\")"
   ]
  },
  {
   "cell_type": "code",
   "execution_count": null,
   "id": "7a66b79a-16c4-4122-85b7-5699a9daa996",
   "metadata": {
    "tags": [],
    "vscode": {
     "languageId": "r"
    }
   },
   "outputs": [],
   "source": [
    "mynn %>% dplyr::filter(str_detect(target,\"^Ukrainian.+[^o]$\"))"
   ]
  },
  {
   "cell_type": "code",
   "execution_count": null,
   "id": "7ed8bd8b-d60e-4447-8fad-a09f2c336138",
   "metadata": {
    "tags": [],
    "vscode": {
     "languageId": "r"
    }
   },
   "outputs": [],
   "source": [
    "myg = graph_from_data_frame(mynn)"
   ]
  },
  {
   "cell_type": "code",
   "execution_count": null,
   "id": "7e78fd71-ef70-49a6-b4ec-7d73b8610580",
   "metadata": {
    "tags": [],
    "vscode": {
     "languageId": "r"
    }
   },
   "outputs": [],
   "source": [
    "myg"
   ]
  },
  {
   "cell_type": "code",
   "execution_count": null,
   "id": "59fcf491-799b-4f2d-9252-a9eb431afa13",
   "metadata": {
    "tags": [],
    "vscode": {
     "languageId": "r"
    }
   },
   "outputs": [],
   "source": [
    "myg = as_tbl_graph(myg)\n",
    "myg"
   ]
  },
  {
   "cell_type": "code",
   "execution_count": null,
   "id": "7dceb117-b796-48ed-a9af-6b45bddff806",
   "metadata": {
    "tags": [],
    "vscode": {
     "languageId": "r"
    }
   },
   "outputs": [],
   "source": [
    "mypf = function (mygr,wdth = 12,hgth = 12,ppi = 400,bgrd = \"gray20\") {\n",
    "    myg = mygr %>% mutate(c_auth = centrality_authority(weights = 1/distance)) \n",
    "    print(myg %>% select(name,c_auth) %>% as.data.frame() %>% arrange(desc(c_auth)))\n",
    "    myp = myg %>% ggraph(layout = 'stress',circular = TRUE) \n",
    "    options(repr.plot.width = wdth,repr.plot.height = hgth,repr.plot.res = ppi,repr.plot.bg = bgrd)\n",
    "    myp + geom_edge_fan(aes(color = distance,alpha = after_stat(index),start_cap = label_rect(node1.name),end_cap = label_rect(node2.name)),strength = 1.25,edge_width = 0.15) + \n",
    "        geom_node_label(aes(label = name,color = c_auth),label.size = 0,size = 1,alpha = 0.6,fill = \"gray15\") + #,repel = TRUE,max.overlaps = 10) + \n",
    "        scale_edge_alpha('Edge direction') + \n",
    "        scale_edge_color_gradient2(\"distance\",low = \"cyan\",mid = \"snow\",high = \"orange\") + \n",
    "        scale_color_gradient2(\"centrality\",low = \"cyan\",mid = \"snow\",high = \"orange\") + \n",
    "        theme_void() + \n",
    "        theme(plot.background = element_rect(\"gray20\"),\n",
    "              legend.title = element_text(color = \"snow\",size = 5),\n",
    "              legend.text = element_text(color = \"snow\",size = 4),\n",
    "              legend.position = \"bottom\") + #,legend.key.size = unit(4,'pt')) +\n",
    "        guides(edge_alpha = guide_edge_direction()) + \n",
    "        coord_flip()\n",
    "    ggsave(\"~/Desktop/plot.pdf\",width = wdth,height = hgth,dpi = ppi)\n",
    "    }"
   ]
  },
  {
   "cell_type": "code",
   "execution_count": null,
   "id": "c0432843-320a-44ba-a308-0961b893a191",
   "metadata": {
    "tags": [],
    "vscode": {
     "languageId": "r"
    }
   },
   "outputs": [],
   "source": [
    "mynames$rowname"
   ]
  },
  {
   "cell_type": "code",
   "execution_count": null,
   "id": "5cd1f0b7-1d1f-43bb-9ce0-58ae0fa5e66d",
   "metadata": {
    "tags": [],
    "vscode": {
     "languageId": "r"
    }
   },
   "outputs": [],
   "source": [
    "myg %>% convert(to_local_neighborhood,node = which(str_detect(.N()$name,\"Gnezdovo\")),order = 5,mode = \"all\") %>% mypf() # nolint: line_length_linter."
   ]
  },
  {
   "cell_type": "code",
   "execution_count": null,
   "id": "ffce7823-654a-41c8-a67d-d0245cf39fe7",
   "metadata": {
    "vscode": {
     "languageId": "r"
    }
   },
   "outputs": [],
   "source": []
  }
 ],
 "metadata": {
  "kernelspec": {
   "display_name": "R",
   "language": "R",
   "name": "ir"
  },
  "language_info": {
   "codemirror_mode": "r",
   "file_extension": ".r",
   "mimetype": "text/x-r-source",
   "name": "R",
   "pygments_lexer": "r",
   "version": "4.3.1"
  }
 },
 "nbformat": 4,
 "nbformat_minor": 5
}
